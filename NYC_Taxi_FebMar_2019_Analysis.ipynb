{
 "cells": [
  {
   "cell_type": "markdown",
   "id": "9ee129c1-96e3-4ec9-9857-718065a7d23b",
   "metadata": {},
   "source": [
    "# NYC Taxi Data February - March 2019 Analysis \n",
    "\n",
    "## Objective\n",
    "NYC taxi trip data for month of February and March 2019:\n",
    "- Trip volume patterns\n",
    "- Typical trip durations\n",
    "- Shared ride usage\n",
    "- Popular pickup zones"
   ]
  },
  {
   "cell_type": "markdown",
   "id": "d6ecf7be-51b4-4a24-ae0e-298cfbdf66eb",
   "metadata": {},
   "source": [
    "## Load the collected data and import the libraries"
   ]
  },
  {
   "cell_type": "code",
   "execution_count": 1,
   "id": "b0ec5ed7-1948-40bf-bf87-844732518952",
   "metadata": {},
   "outputs": [],
   "source": [
    "# Import libraries\n",
    "import pandas as pd\n",
    "import matplotlib.pyplot as plt"
   ]
  },
  {
   "cell_type": "code",
   "execution_count": 2,
   "id": "13087a6c-cd3a-4858-ade1-286fcacbd4a3",
   "metadata": {},
   "outputs": [],
   "source": [
    "# Import pandas for data manipulation and load the dataset\n",
    "\n",
    "df = pd.read_csv(\"/Users/charmainevinarta/Documents/Portfolio/taxi2019data.csv\")"
   ]
  },
  {
   "cell_type": "markdown",
   "id": "bac75d44-c34c-42a2-9795-efd29d89bd7b",
   "metadata": {},
   "source": [
    "## Initial Data Exploration\n",
    "Before starting the analysis, let's take a quick look at the data to understand its structure, types, and to identify any missing values, NaNs, strange values, weird data types."
   ]
  },
  {
   "cell_type": "code",
   "execution_count": 3,
   "id": "6a5e288d-bdf0-4ae9-8914-a73c69eb2749",
   "metadata": {
    "scrolled": true
   },
   "outputs": [
    {
     "data": {
      "text/html": [
       "<div>\n",
       "<style scoped>\n",
       "    .dataframe tbody tr th:only-of-type {\n",
       "        vertical-align: middle;\n",
       "    }\n",
       "\n",
       "    .dataframe tbody tr th {\n",
       "        vertical-align: top;\n",
       "    }\n",
       "\n",
       "    .dataframe thead th {\n",
       "        text-align: right;\n",
       "    }\n",
       "</style>\n",
       "<table border=\"1\" class=\"dataframe\">\n",
       "  <thead>\n",
       "    <tr style=\"text-align: right;\">\n",
       "      <th></th>\n",
       "      <th>hvfhs_license_num</th>\n",
       "      <th>dispatching_base_num</th>\n",
       "      <th>pickup_datetime</th>\n",
       "      <th>dropoff_datetime</th>\n",
       "      <th>PULocationID</th>\n",
       "      <th>DOLocationID</th>\n",
       "      <th>SR_Flag</th>\n",
       "    </tr>\n",
       "  </thead>\n",
       "  <tbody>\n",
       "    <tr>\n",
       "      <th>0</th>\n",
       "      <td>HV0005</td>\n",
       "      <td>B02510</td>\n",
       "      <td>02/12/2019 11:10:30 AM</td>\n",
       "      <td>02/12/2019 11:19:14 AM</td>\n",
       "      <td>80</td>\n",
       "      <td>112</td>\n",
       "      <td>NaN</td>\n",
       "    </tr>\n",
       "    <tr>\n",
       "      <th>1</th>\n",
       "      <td>HV0005</td>\n",
       "      <td>B02510</td>\n",
       "      <td>02/12/2019 11:35:27 AM</td>\n",
       "      <td>02/12/2019 11:54:29 AM</td>\n",
       "      <td>256</td>\n",
       "      <td>125</td>\n",
       "      <td>NaN</td>\n",
       "    </tr>\n",
       "    <tr>\n",
       "      <th>2</th>\n",
       "      <td>HV0003</td>\n",
       "      <td>B02867</td>\n",
       "      <td>02/12/2019 11:03:14 AM</td>\n",
       "      <td>02/12/2019 11:21:04 AM</td>\n",
       "      <td>210</td>\n",
       "      <td>155</td>\n",
       "      <td>1.0</td>\n",
       "    </tr>\n",
       "    <tr>\n",
       "      <th>3</th>\n",
       "      <td>HV0003</td>\n",
       "      <td>B02867</td>\n",
       "      <td>02/12/2019 11:12:12 AM</td>\n",
       "      <td>02/12/2019 11:24:40 AM</td>\n",
       "      <td>155</td>\n",
       "      <td>155</td>\n",
       "      <td>1.0</td>\n",
       "    </tr>\n",
       "    <tr>\n",
       "      <th>4</th>\n",
       "      <td>HV0003</td>\n",
       "      <td>B02867</td>\n",
       "      <td>02/12/2019 11:50:05 AM</td>\n",
       "      <td>02/12/2019 11:59:14 AM</td>\n",
       "      <td>155</td>\n",
       "      <td>91</td>\n",
       "      <td>NaN</td>\n",
       "    </tr>\n",
       "  </tbody>\n",
       "</table>\n",
       "</div>"
      ],
      "text/plain": [
       "  hvfhs_license_num dispatching_base_num         pickup_datetime  \\\n",
       "0            HV0005               B02510  02/12/2019 11:10:30 AM   \n",
       "1            HV0005               B02510  02/12/2019 11:35:27 AM   \n",
       "2            HV0003               B02867  02/12/2019 11:03:14 AM   \n",
       "3            HV0003               B02867  02/12/2019 11:12:12 AM   \n",
       "4            HV0003               B02867  02/12/2019 11:50:05 AM   \n",
       "\n",
       "         dropoff_datetime  PULocationID  DOLocationID  SR_Flag  \n",
       "0  02/12/2019 11:19:14 AM            80           112      NaN  \n",
       "1  02/12/2019 11:54:29 AM           256           125      NaN  \n",
       "2  02/12/2019 11:21:04 AM           210           155      1.0  \n",
       "3  02/12/2019 11:24:40 AM           155           155      1.0  \n",
       "4  02/12/2019 11:59:14 AM           155            91      NaN  "
      ]
     },
     "execution_count": 3,
     "metadata": {},
     "output_type": "execute_result"
    }
   ],
   "source": [
    "# Preview the first few rows to understand the data structure\n",
    "\n",
    "df.head()"
   ]
  },
  {
   "cell_type": "code",
   "execution_count": 4,
   "id": "80c0bb8f-08a1-4d84-a72f-df4d87ccb821",
   "metadata": {},
   "outputs": [
    {
     "name": "stdout",
     "output_type": "stream",
     "text": [
      "<class 'pandas.core.frame.DataFrame'>\n",
      "RangeIndex: 200000 entries, 0 to 199999\n",
      "Data columns (total 7 columns):\n",
      " #   Column                Non-Null Count   Dtype  \n",
      "---  ------                --------------   -----  \n",
      " 0   hvfhs_license_num     200000 non-null  object \n",
      " 1   dispatching_base_num  199997 non-null  object \n",
      " 2   pickup_datetime       200000 non-null  object \n",
      " 3   dropoff_datetime      200000 non-null  object \n",
      " 4   PULocationID          200000 non-null  int64  \n",
      " 5   DOLocationID          200000 non-null  int64  \n",
      " 6   SR_Flag               43576 non-null   float64\n",
      "dtypes: float64(1), int64(2), object(4)\n",
      "memory usage: 10.7+ MB\n"
     ]
    }
   ],
   "source": [
    "# Summary of the dataframe: columns, data types, and non-null counts\n",
    "\n",
    "df.info()"
   ]
  },
  {
   "cell_type": "code",
   "execution_count": 5,
   "id": "a366f151-2e92-4cdf-89c2-f16a69245992",
   "metadata": {},
   "outputs": [
    {
     "data": {
      "text/html": [
       "<div>\n",
       "<style scoped>\n",
       "    .dataframe tbody tr th:only-of-type {\n",
       "        vertical-align: middle;\n",
       "    }\n",
       "\n",
       "    .dataframe tbody tr th {\n",
       "        vertical-align: top;\n",
       "    }\n",
       "\n",
       "    .dataframe thead th {\n",
       "        text-align: right;\n",
       "    }\n",
       "</style>\n",
       "<table border=\"1\" class=\"dataframe\">\n",
       "  <thead>\n",
       "    <tr style=\"text-align: right;\">\n",
       "      <th></th>\n",
       "      <th>PULocationID</th>\n",
       "      <th>DOLocationID</th>\n",
       "      <th>SR_Flag</th>\n",
       "    </tr>\n",
       "  </thead>\n",
       "  <tbody>\n",
       "    <tr>\n",
       "      <th>count</th>\n",
       "      <td>200000.00000</td>\n",
       "      <td>200000.000000</td>\n",
       "      <td>43576.0</td>\n",
       "    </tr>\n",
       "    <tr>\n",
       "      <th>mean</th>\n",
       "      <td>139.12851</td>\n",
       "      <td>141.398060</td>\n",
       "      <td>1.0</td>\n",
       "    </tr>\n",
       "    <tr>\n",
       "      <th>std</th>\n",
       "      <td>75.22699</td>\n",
       "      <td>77.294184</td>\n",
       "      <td>0.0</td>\n",
       "    </tr>\n",
       "    <tr>\n",
       "      <th>min</th>\n",
       "      <td>1.00000</td>\n",
       "      <td>1.000000</td>\n",
       "      <td>1.0</td>\n",
       "    </tr>\n",
       "    <tr>\n",
       "      <th>25%</th>\n",
       "      <td>75.00000</td>\n",
       "      <td>75.000000</td>\n",
       "      <td>1.0</td>\n",
       "    </tr>\n",
       "    <tr>\n",
       "      <th>50%</th>\n",
       "      <td>141.00000</td>\n",
       "      <td>141.000000</td>\n",
       "      <td>1.0</td>\n",
       "    </tr>\n",
       "    <tr>\n",
       "      <th>75%</th>\n",
       "      <td>211.00000</td>\n",
       "      <td>216.000000</td>\n",
       "      <td>1.0</td>\n",
       "    </tr>\n",
       "    <tr>\n",
       "      <th>max</th>\n",
       "      <td>265.00000</td>\n",
       "      <td>265.000000</td>\n",
       "      <td>1.0</td>\n",
       "    </tr>\n",
       "  </tbody>\n",
       "</table>\n",
       "</div>"
      ],
      "text/plain": [
       "       PULocationID   DOLocationID  SR_Flag\n",
       "count  200000.00000  200000.000000  43576.0\n",
       "mean      139.12851     141.398060      1.0\n",
       "std        75.22699      77.294184      0.0\n",
       "min         1.00000       1.000000      1.0\n",
       "25%        75.00000      75.000000      1.0\n",
       "50%       141.00000     141.000000      1.0\n",
       "75%       211.00000     216.000000      1.0\n",
       "max       265.00000     265.000000      1.0"
      ]
     },
     "execution_count": 5,
     "metadata": {},
     "output_type": "execute_result"
    }
   ],
   "source": [
    "# Basic statistics for numerical columns to understand distribution\n",
    "# PU is for PickUp & DO for Drop off\n",
    "\n",
    "df.describe()"
   ]
  },
  {
   "cell_type": "code",
   "execution_count": 6,
   "id": "b614082e-70df-43ce-a89c-38df864bf002",
   "metadata": {},
   "outputs": [
    {
     "data": {
      "text/plain": [
       "hvfhs_license_num            0\n",
       "dispatching_base_num         3\n",
       "pickup_datetime              0\n",
       "dropoff_datetime             0\n",
       "PULocationID                 0\n",
       "DOLocationID                 0\n",
       "SR_Flag                 156424\n",
       "dtype: int64"
      ]
     },
     "execution_count": 6,
     "metadata": {},
     "output_type": "execute_result"
    }
   ],
   "source": [
    "# Checking for missing values for each column\n",
    "\n",
    "df.isnull().sum()"
   ]
  },
  {
   "cell_type": "markdown",
   "id": "39917002-0854-4c92-a0a4-b548b442e524",
   "metadata": {},
   "source": [
    "## Clean & prepare the data for data wrangling"
   ]
  },
  {
   "cell_type": "code",
   "execution_count": 7,
   "id": "4ba17fea-4ae6-4171-9d7e-6459f7b1b785",
   "metadata": {},
   "outputs": [],
   "source": [
    "# Convert pickup and dropoff times from string to datetime\n",
    "\n",
    "df['pickup_datetime'] = pd.to_datetime(df['pickup_datetime'], errors='coerce')\n",
    "df['dropoff_datetime'] = pd.to_datetime(df['dropoff_datetime'], errors='coerce')"
   ]
  },
  {
   "cell_type": "code",
   "execution_count": 8,
   "id": "66499b70-de2e-4d31-968f-2dbe328fdd2d",
   "metadata": {},
   "outputs": [],
   "source": [
    "# Fill missing dispatching_base_num with a placeholder string\n",
    "\n",
    "df['dispatching_base_num'] = df['dispatching_base_num'].fillna(\"UNKNOWN\")"
   ]
  },
  {
   "cell_type": "code",
   "execution_count": 9,
   "id": "04f1ebf4-d0c8-4938-a030-715f604fcac3",
   "metadata": {},
   "outputs": [],
   "source": [
    "# Fill missing SR_Flag with 0 (meaning not a shared ride), then convert to int\n",
    "\n",
    "df['SR_Flag'] = df['SR_Flag'].fillna(0).astype(int)"
   ]
  },
  {
   "cell_type": "code",
   "execution_count": 10,
   "id": "15cbc500-9643-44f4-8060-ffae325fc95f",
   "metadata": {},
   "outputs": [],
   "source": [
    "# Create a new column for trip duration in minutes\n",
    "\n",
    "df['trip_duration'] = (df['dropoff_datetime'] - df['pickup_datetime']).dt.total_seconds() / 60"
   ]
  },
  {
   "cell_type": "code",
   "execution_count": 11,
   "id": "1a0b2a66-748c-4dbe-8e89-6ea6f3d56284",
   "metadata": {},
   "outputs": [
    {
     "name": "stdout",
     "output_type": "stream",
     "text": [
      "<class 'pandas.core.frame.DataFrame'>\n",
      "RangeIndex: 200000 entries, 0 to 199999\n",
      "Data columns (total 8 columns):\n",
      " #   Column                Non-Null Count   Dtype         \n",
      "---  ------                --------------   -----         \n",
      " 0   hvfhs_license_num     200000 non-null  object        \n",
      " 1   dispatching_base_num  200000 non-null  object        \n",
      " 2   pickup_datetime       200000 non-null  datetime64[ns]\n",
      " 3   dropoff_datetime      200000 non-null  datetime64[ns]\n",
      " 4   PULocationID          200000 non-null  int64         \n",
      " 5   DOLocationID          200000 non-null  int64         \n",
      " 6   SR_Flag               200000 non-null  int64         \n",
      " 7   trip_duration         200000 non-null  float64       \n",
      "dtypes: datetime64[ns](2), float64(1), int64(3), object(2)\n",
      "memory usage: 12.2+ MB\n",
      "None\n"
     ]
    },
    {
     "data": {
      "text/html": [
       "<div>\n",
       "<style scoped>\n",
       "    .dataframe tbody tr th:only-of-type {\n",
       "        vertical-align: middle;\n",
       "    }\n",
       "\n",
       "    .dataframe tbody tr th {\n",
       "        vertical-align: top;\n",
       "    }\n",
       "\n",
       "    .dataframe thead th {\n",
       "        text-align: right;\n",
       "    }\n",
       "</style>\n",
       "<table border=\"1\" class=\"dataframe\">\n",
       "  <thead>\n",
       "    <tr style=\"text-align: right;\">\n",
       "      <th></th>\n",
       "      <th>hvfhs_license_num</th>\n",
       "      <th>dispatching_base_num</th>\n",
       "      <th>pickup_datetime</th>\n",
       "      <th>dropoff_datetime</th>\n",
       "      <th>PULocationID</th>\n",
       "      <th>DOLocationID</th>\n",
       "      <th>SR_Flag</th>\n",
       "      <th>trip_duration</th>\n",
       "    </tr>\n",
       "  </thead>\n",
       "  <tbody>\n",
       "    <tr>\n",
       "      <th>0</th>\n",
       "      <td>HV0005</td>\n",
       "      <td>B02510</td>\n",
       "      <td>2019-02-12 11:10:30</td>\n",
       "      <td>2019-02-12 11:19:14</td>\n",
       "      <td>80</td>\n",
       "      <td>112</td>\n",
       "      <td>0</td>\n",
       "      <td>8.733333</td>\n",
       "    </tr>\n",
       "    <tr>\n",
       "      <th>1</th>\n",
       "      <td>HV0005</td>\n",
       "      <td>B02510</td>\n",
       "      <td>2019-02-12 11:35:27</td>\n",
       "      <td>2019-02-12 11:54:29</td>\n",
       "      <td>256</td>\n",
       "      <td>125</td>\n",
       "      <td>0</td>\n",
       "      <td>19.033333</td>\n",
       "    </tr>\n",
       "    <tr>\n",
       "      <th>2</th>\n",
       "      <td>HV0003</td>\n",
       "      <td>B02867</td>\n",
       "      <td>2019-02-12 11:03:14</td>\n",
       "      <td>2019-02-12 11:21:04</td>\n",
       "      <td>210</td>\n",
       "      <td>155</td>\n",
       "      <td>1</td>\n",
       "      <td>17.833333</td>\n",
       "    </tr>\n",
       "    <tr>\n",
       "      <th>3</th>\n",
       "      <td>HV0003</td>\n",
       "      <td>B02867</td>\n",
       "      <td>2019-02-12 11:12:12</td>\n",
       "      <td>2019-02-12 11:24:40</td>\n",
       "      <td>155</td>\n",
       "      <td>155</td>\n",
       "      <td>1</td>\n",
       "      <td>12.466667</td>\n",
       "    </tr>\n",
       "    <tr>\n",
       "      <th>4</th>\n",
       "      <td>HV0003</td>\n",
       "      <td>B02867</td>\n",
       "      <td>2019-02-12 11:50:05</td>\n",
       "      <td>2019-02-12 11:59:14</td>\n",
       "      <td>155</td>\n",
       "      <td>91</td>\n",
       "      <td>0</td>\n",
       "      <td>9.150000</td>\n",
       "    </tr>\n",
       "  </tbody>\n",
       "</table>\n",
       "</div>"
      ],
      "text/plain": [
       "  hvfhs_license_num dispatching_base_num     pickup_datetime  \\\n",
       "0            HV0005               B02510 2019-02-12 11:10:30   \n",
       "1            HV0005               B02510 2019-02-12 11:35:27   \n",
       "2            HV0003               B02867 2019-02-12 11:03:14   \n",
       "3            HV0003               B02867 2019-02-12 11:12:12   \n",
       "4            HV0003               B02867 2019-02-12 11:50:05   \n",
       "\n",
       "     dropoff_datetime  PULocationID  DOLocationID  SR_Flag  trip_duration  \n",
       "0 2019-02-12 11:19:14            80           112        0       8.733333  \n",
       "1 2019-02-12 11:54:29           256           125        0      19.033333  \n",
       "2 2019-02-12 11:21:04           210           155        1      17.833333  \n",
       "3 2019-02-12 11:24:40           155           155        1      12.466667  \n",
       "4 2019-02-12 11:59:14           155            91        0       9.150000  "
      ]
     },
     "execution_count": 11,
     "metadata": {},
     "output_type": "execute_result"
    }
   ],
   "source": [
    "# Quick check after cleaning\n",
    "\n",
    "print(df.info())\n",
    "df.head()"
   ]
  },
  {
   "cell_type": "markdown",
   "id": "d84a6348-e37c-4089-8a93-3ca1850e5711",
   "metadata": {},
   "source": [
    "## Explore and visualize, exploring data analysis\n",
    "After cleaning the data, try understand the key patterns, distributions, and trends."
   ]
  },
  {
   "cell_type": "markdown",
   "id": "4591a6a3-4c44-4345-a6e9-805c1bf69561",
   "metadata": {},
   "source": [
    "## Trip volume by month?"
   ]
  },
  {
   "cell_type": "code",
   "execution_count": 13,
   "id": "bbdef815-b0a4-451e-9bf4-44826c5fd9d3",
   "metadata": {},
   "outputs": [
    {
     "data": {
      "image/png": "[encoded data removed]",
      "text/plain": [
       "<Figure size 640x480 with 1 Axes>"
      ]
     },
     "metadata": {},
     "output_type": "display_data"
    },
    {
     "data": {
      "text/plain": [
       "month\n",
       "2    65.0\n",
       "3    35.0\n",
       "Name: proportion, dtype: float64"
      ]
     },
     "execution_count": 13,
     "metadata": {},
     "output_type": "execute_result"
    }
   ],
   "source": [
    "df['month'] = df['pickup_datetime'].dt.month\n",
    "\n",
    "df['month'].value_counts().sort_index().plot(kind='bar')\n",
    "\n",
    "plt.title(\"Trip Volume by Month\")\n",
    "plt.xlabel(\"Month (2=Feb, 3=Mar)\")\n",
    "plt.ylabel(\"Number of Trips\")\n",
    "plt.show()\n",
    "\n",
    "# this shows the percentage by each months\n",
    "df['month'].value_counts(normalize=True).sort_index().mul(100).round(1)"
   ]
  },
  {
   "cell_type": "markdown",
   "id": "eac8787a-7348-4178-829c-1f824c66d0f8",
   "metadata": {},
   "source": [
    "## Shared vs non-shared rides"
   ]
  },
  {
   "cell_type": "code",
   "execution_count": 14,
   "id": "b003375d-c52f-40ae-804c-3028611e23ab",
   "metadata": {},
   "outputs": [
    {
     "data": {
      "image/png": "[encoded data removed]",
      "text/plain": [
       "<Figure size 640x480 with 1 Axes>"
      ]
     },
     "metadata": {},
     "output_type": "display_data"
    },
    {
     "name": "stdout",
     "output_type": "stream",
     "text": [
      "Shared vs Non-Shared Rides Summary:\n",
      "Not Shared: 156424 trips (78.2%)\n",
      "Shared: 43576 trips (21.8%)\n"
     ]
    }
   ],
   "source": [
    "# Bar chart \n",
    "df['SR_Flag'].value_counts().plot(kind='bar')\n",
    "plt.title(\"Shared vs Non-Shared Rides\")\n",
    "plt.xlabel(\"0 = Non-Shared, 1 = Shared\")\n",
    "plt.ylabel(\"Number of Trips\")\n",
    "plt.show()\n",
    "\n",
    "# Shows the percentage\n",
    "counts = df['SR_Flag'].value_counts()\n",
    "percentages = df['SR_Flag'].value_counts(normalize=True).mul(100).round(1)\n",
    "\n",
    "print(\"Shared vs Non-Shared Rides Summary:\")\n",
    "for flag in counts.index:\n",
    "    label = \"Not Shared\" if flag == 0 else \"Shared\"\n",
    "    print(f\"{label}: {counts[flag]} trips ({percentages[flag]}%)\")"
   ]
  },
  {
   "cell_type": "markdown",
   "id": "202a7dc1-cacf-4f21-a82c-32a5f2fd7fd6",
   "metadata": {},
   "source": [
    "## Trip duration distribution"
   ]
  },
  {
   "cell_type": "code",
   "execution_count": 15,
   "id": "a2b8ed38-5efd-4aa2-8696-b31fba60a770",
   "metadata": {},
   "outputs": [
    {
     "data": {
      "image/png": "[encoded data removed]",
      "text/plain": [
       "<Figure size 640x480 with 1 Axes>"
      ]
     },
     "metadata": {},
     "output_type": "display_data"
    }
   ],
   "source": [
    "df[df['trip_duration'] < 50]['trip_duration'].hist(bins=50)\n",
    "plt.title(\"Trip Duration (minutes) - Focused Under 50 min\")\n",
    "plt.xlabel(\"Duration (min)\")\n",
    "plt.ylabel(\"Number of Trips\")\n",
    "plt.show()"
   ]
  },
  {
   "cell_type": "markdown",
   "id": "7ec7265b-6947-496d-a2bf-6f4b713dbed3",
   "metadata": {},
   "source": [
    "## Top pickup zones"
   ]
  },
  {
   "cell_type": "code",
   "execution_count": 16,
   "id": "93bf48db-abd0-41ce-b643-354c67149bf4",
   "metadata": {},
   "outputs": [
    {
     "data": {
      "image/png": "[encoded data removed]",
      "text/plain": [
       "<Figure size 640x480 with 1 Axes>"
      ]
     },
     "metadata": {},
     "output_type": "display_data"
    }
   ],
   "source": [
    "df['PULocationID'].value_counts().head(10).plot(kind='bar')\n",
    "plt.title(\"Top 10 Pickup Zones\")\n",
    "plt.xlabel(\"Pickup Location ID\")\n",
    "plt.ylabel(\"Number of Trips\")\n",
    "plt.show()"
   ]
  },
  {
   "cell_type": "markdown",
   "id": "5f7aae63-3651-4264-85cb-e38807561680",
   "metadata": {},
   "source": [
    "## Findings and Observations\n",
    "\n",
    "- This dataset only covers February and March 2019.\n",
    "- About 65% of trips took place in February, with the remaining 35% in March.\n",
    "- 78% of trips were not shared, while 22% were shared rides, indicate most passengers chose solo.\n",
    "- Most trips lasted under 50 minutes, with a sharp peak around 10-20 minutes.\n",
    "- Pickup activity was heavily in a few key zones, such Zone 79 having the highest trip count."
   ]
  },
  {
   "cell_type": "code",
   "execution_count": null,
   "id": "c058c42d-1ad2-4be8-8ada-2545904947e0",
   "metadata": {},
   "outputs": [],
   "source": []
  }
 ],
 "metadata": {
  "kernelspec": {
   "display_name": "Python (myenv)",
   "language": "python",
   "name": "myenv"
  },
  "language_info": {
   "codemirror_mode": {
    "name": "ipython",
    "version": 3
   },
   "file_extension": ".py",
   "mimetype": "text/x-python",
   "name": "python",
   "nbconvert_exporter": "python",
   "pygments_lexer": "ipython3",
   "version": "3.10.16"
  }
 },
 "nbformat": 4,
 "nbformat_minor": 5
}
